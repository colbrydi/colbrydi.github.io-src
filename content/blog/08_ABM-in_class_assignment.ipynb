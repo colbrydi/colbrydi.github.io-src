{
 "cells": [
  {
   "cell_type": "markdown",
   "metadata": {},
   "source": [
    "## <p style=\"text-align: right;\"> &#9989; Put your name(s) here</p>"
   ]
  },
  {
   "cell_type": "markdown",
   "metadata": {
    "collapsed": true
   },
   "source": [
    "# In-Class Assignment: Agent Based Modeling\n",
    "\n",
    "<img src=\"https://upload.wikimedia.org/wikipedia/commons/thumb/3/34/Safari_ants.jpg/440px-Safari_ants.jpg\", width=500> <p style=\"text-align: right;\">\n",
    "Image from https://en.wikipedia.org/wiki/Ant_colony_optimization_algorithms\n",
    "</p>"
   ]
  },
  {
   "cell_type": "markdown",
   "metadata": {
    "collapsed": true
   },
   "source": [
    "### Agenda for today's class (110 minutes)\n",
    "\n",
    "</p>\n",
    "\n",
    "1. (20 minutes) Guest Presentation on ABMs\n",
    "1. (30 minutes) Revisit Ant Foraging Model\n",
    "1. (20 minutes) Present HW3\n",
    "1. (40 minutes) Revisit 2D Shelling Model\n"
   ]
  },
  {
   "cell_type": "markdown",
   "metadata": {},
   "source": [
    "# 1. Guest Presentation on ABMs\n"
   ]
  },
  {
   "cell_type": "markdown",
   "metadata": {},
   "source": [
    "# 2. Revisit Ant Foraging Model\n",
    "\n",
    "&#9989; DO THIS - Discuss the following solution to the ant forging model and share your answers to the questions below with the class.\n"
   ]
  },
  {
   "cell_type": "code",
   "execution_count": null,
   "metadata": {
    "collapsed": false
   },
   "outputs": [],
   "source": [
    "%matplotlib inline\n",
    "import matplotlib.pyplot as plt\n",
    "import random \n",
    "import numpy as np\n",
    "\n",
    "from IPython.display import display, clear_output\n",
    "import time  \n",
    "\n",
    "class grid():\n",
    "    \n",
    "    #inicialize the grid (World)\n",
    "    def __init__(self, x_dim = 70, y_dim = 30):\n",
    "        self.x_dim = x_dim\n",
    "        self.y_dim = y_dim\n",
    "        self.smell = np.zeros((x_dim,y_dim))\n",
    "        self.food = np.zeros((x_dim,y_dim))\n",
    "        self.addfood()\n",
    "        \n",
    "    #Add food to the grid. \n",
    "    def addfood(self):\n",
    "        self.food[45:50, 25:30] = 10\n",
    "        self.food[45:50, 25:30] = 10\n",
    "        self.food[65:70, 0:5] = 10\n",
    "        \n",
    "    #increment time which lowers the smell\n",
    "    def incriment_time(self):\n",
    "        self.smell = self.smell - 1\n",
    "        self.smell[self.smell < 0] = 0\n",
    "    \n",
    "    #Draw the grid as an image\n",
    "    def draw(self):\n",
    "        print(\"draw something\")\n",
    "        #s = np.ma.masked_where(self.smell == 0, self.smell)\n",
    "        #f = np.ma.masked_where(self.food == 0, self.food)\n",
    "        #plt.imshow(f.T, cmap=plt.cm.gray, origin='lower', aspect='equal')\n",
    "        #plt.imshow(s.T, cmap=plt.cm.jet_r, origin='lower', aspect='equal')\n",
    "        #plt.imshow(self.smell.T, origin='lower', aspect='equal')\n",
    "        plt.imshow(self.food.T, origin='lower', aspect='equal')\n",
    "        \n",
    "\n",
    "class ant():\n",
    "    \n",
    "    #OOP trick so that each ant has access to the entire grid\n",
    "    world = grid(); \n",
    "    \n",
    "    def decriment_world(self):\n",
    "        self.world.incriment_time()\n",
    "    \n",
    "    def draw_world(self):\n",
    "        self.world.draw()\n",
    "    \n",
    "    def reset_world(self):\n",
    "        self.world = grid()\n",
    "        \n",
    "    \n",
    "    #Ant constructor\n",
    "    def __init__(self, x = 1, y = 1):\n",
    "        self.x = int(random.random()*(self.world.x_dim-1))\n",
    "        self.y = int(random.random()*(self.world.y_dim-1))\n",
    "        self.food = False\n",
    "\n",
    "    #Ant tries to find food\n",
    "    def find_food(self):\n",
    "        directions = ['up', 'left', 'down', 'right']\n",
    "        \n",
    "        #First check to see if there is food up and to the right.\n",
    "        g = [] #follow gradient\n",
    "        m  = [] \n",
    "        if(self.x + 1 < self.world.x_dim):\n",
    "            if(self.world.smell[self.x+1, self.y] > 0):\n",
    "                m.append(self.world.smell[self.x+1, self.y])\n",
    "                g.append('right')\n",
    "        if(self.y + 1 < self.world.y_dim):\n",
    "            if(self.world.smell[self.x, self.y+1] > 0):\n",
    "                m.append(self.world.smell[self.x, self.y+1])\n",
    "                g.append('up')\n",
    "        if(g != []):\n",
    "            grad = g[m.index(max(m))]\n",
    "            #print(\"Following smell\", grad)\n",
    "        else:\n",
    "            #else just pick a random direction.\n",
    "            grad = random.choice(directions)\n",
    "            #print(\"Choosing \",grad)\n",
    "        \n",
    "        # move the ant\n",
    "        if(grad == 'up'):\n",
    "            self.y = self.y + 1\n",
    "        elif(grad == 'right'):\n",
    "            self.x = self.x + 1\n",
    "        elif(grad == 'down'):\n",
    "            self.y = self.y - 1\n",
    "        elif(grad == 'left'):\n",
    "            self.x = self.x - 1\n",
    "        else:\n",
    "            print(\"ERROR!!!!!!!!!!!!\")\n",
    "            \n",
    "        #make sure we don't go off the gird. \n",
    "        if(self.x < 0):\n",
    "            self.x = 0\n",
    "        if(self.y < 0):\n",
    "            self.y = 0\n",
    "        if(self.x > self.world.x_dim-1):\n",
    "            self.x = self.world.x_dim-1\n",
    "        if(self.y > self.world.y_dim-1):\n",
    "            self.y = self.world.y_dim-1\n",
    "    \n",
    "    # \n",
    "    def incriment_time(self):\n",
    "        if(self.food == True):\n",
    "            pick = np.zeros(self.x+self.y)\n",
    "            pick[0:self.x] = 1\n",
    "            if(np.random.choice(pick)==1):\n",
    "                self.x = self.x - 1\n",
    "            else:\n",
    "                self.y = self.y - 1\n",
    "                \n",
    "            if(self.x < 0):\n",
    "                self.x = 0\n",
    "                return\n",
    "            if(self.y < 0):\n",
    "                self.y = 0\n",
    "                return\n",
    "            \n",
    "            self.world.smell[self.x,self.y] = self.world.smell[self.x,self.y] + 100\n",
    "            if(self.x == 0 and self.y == 0):\n",
    "                self.food = False\n",
    "        else:\n",
    "            self.find_food()\n",
    "            if self.world.food[self.x, self.y] > 0:\n",
    "                self.world.food[self.x,self.y] -= 1\n",
    "                self.food = True\n",
    "                    \n",
    "    def draw(self):\n",
    "        color = 'r'\n",
    "        if (self.food == True):\n",
    "            color = 'g'\n",
    "        plt.scatter(self.x, self.y, color=color)\n",
    "    "
   ]
  },
  {
   "cell_type": "code",
   "execution_count": null,
   "metadata": {
    "collapsed": true
   },
   "outputs": [],
   "source": [
    "ants = []\n",
    "for i in range(100):\n",
    "    ants.append(ant())"
   ]
  },
  {
   "cell_type": "code",
   "execution_count": null,
   "metadata": {
    "collapsed": false
   },
   "outputs": [],
   "source": [
    "fig, ax = plt.subplots(figsize=(10,5))\n",
    "for i in range(100):\n",
    "    ants[0].draw_world()\n",
    "\n",
    "    for a in ants:\n",
    "        a.incriment_time();\n",
    "        a.draw();\n",
    "    ants[0].decriment_world()\n",
    "\n",
    "    # Animaiton part (dosn't change)\n",
    "    clear_output(wait=True) # Clear output for dynamic display\n",
    "    display(fig)            # Reset display\n",
    "    fig.clear()             # Prevent overlapping and layered plots\n",
    "    time.sleep(0.0001)      # Sleep for a fraction of a second to allow animation to catch up"
   ]
  },
  {
   "cell_type": "markdown",
   "metadata": {},
   "source": [
    "**Question 1**: What did you find interesting or different about this design?"
   ]
  },
  {
   "cell_type": "markdown",
   "metadata": {},
   "source": [
    "<font size=8 color=\"#009600\">&#9998;</font> Do This - Erase the contents of this cell and replace it with your answer to the above question!  (double-click on this text to edit this cell, and hit shift+enter to save the text)"
   ]
  },
  {
   "cell_type": "markdown",
   "metadata": {},
   "source": [
    "**Question 2**: What did you like about this design?\n"
   ]
  },
  {
   "cell_type": "markdown",
   "metadata": {},
   "source": [
    "<font size=8 color=\"#009600\">&#9998;</font> Do This - Erase the contents of this cell and replace it with your answer to the above question!  (double-click on this text to edit this cell, and hit shift+enter to save the text)"
   ]
  },
  {
   "cell_type": "markdown",
   "metadata": {},
   "source": [
    "**Question 3**: What did you dislike about this design and is there something simple you can do to improve it?\n"
   ]
  },
  {
   "cell_type": "markdown",
   "metadata": {},
   "source": [
    "<font size=8 color=\"#009600\">&#9998;</font> Do This - Erase the contents of this cell and replace it with your answer to the above question!  (double-click on this text to edit this cell, and hit shift+enter to save the text)"
   ]
  },
  {
   "cell_type": "markdown",
   "metadata": {},
   "source": [
    "**Question 4**: What did you like about this design?\n"
   ]
  },
  {
   "cell_type": "markdown",
   "metadata": {},
   "source": [
    "<font size=8 color=\"#009600\">&#9998;</font> Do This - Erase the contents of this cell and replace it with your answer to the above question!  (double-click on this text to edit this cell, and hit shift+enter to save the text)"
   ]
  },
  {
   "cell_type": "markdown",
   "metadata": {},
   "source": [
    "**Question 5**: What kind of scientific questions could you ask using a model such as this?\n"
   ]
  },
  {
   "cell_type": "markdown",
   "metadata": {},
   "source": [
    "<font size=8 color=\"#009600\">&#9998;</font> Do This - Erase the contents of this cell and replace it with your answer to the above question!  (double-click on this text to edit this cell, and hit shift+enter to save the text)"
   ]
  },
  {
   "cell_type": "markdown",
   "metadata": {},
   "source": [
    "# 2. Revisit 2D Shelling Model"
   ]
  },
  {
   "cell_type": "markdown",
   "metadata": {},
   "source": [
    "** STEP 1: Review the 2D Shelling Model (10 minutes) **\n",
    "\n",
    "&#9989; DO THIS - Spend about 10 minutes reviewing the Shelling Model.  Try the following simulations:\n",
    "\n",
    "http://ncase.me/polygons/"
   ]
  },
  {
   "cell_type": "markdown",
   "metadata": {},
   "source": [
    "**STEP 2: Outline a program interface (20 minutes)**\n",
    "\n",
    "**Question 6**: - Write up a high level program interface using python stub function to implement a new shelling model using classes. Make sure to include the following:\n",
    "\n",
    "1. Names of all classes and a short description. \n",
    "2. List of all variables inside of the class and a description of their purpose. \n",
    "3. Names of all member functions inside of the class and what they do.  "
   ]
  },
  {
   "cell_type": "code",
   "execution_count": null,
   "metadata": {
    "collapsed": true
   },
   "outputs": [],
   "source": [
    "#Erase the contents of this cell and replace it with your answer to the above question!  "
   ]
  },
  {
   "cell_type": "markdown",
   "metadata": {},
   "source": [
    "**Question 7**: How is this implementation different from an implementation without Classes?"
   ]
  },
  {
   "cell_type": "markdown",
   "metadata": {},
   "source": [
    "<font size=8 color=\"#009600\">&#9998;</font> Do This - Erase the contents of this cell and replace it with your answer to the above question!  (double-click on this text to edit this cell, and hit shift+enter to save the text)"
   ]
  },
  {
   "cell_type": "markdown",
   "metadata": {},
   "source": [
    "&#9989; DO THIS - Share your program implementation with the class. As a class we will pick our favorite implementation. As a group we will discuss the following questions."
   ]
  },
  {
   "cell_type": "markdown",
   "metadata": {},
   "source": [
    "** STEP 4**: Make a working Shelling Model\n",
    "\n",
    "For this activity we will be using the shelling model code laid out in the following blog post:\n",
    "\n",
    "https://www.binpress.com/tutorial/introduction-to-agentbased-models-an-implementation-of-schelling-model-in-python/144\n",
    "\n",
    "&#9989; DO THIS  - Copy, paste and **FIX** the Shelling model code in the blog post.  Note the code was written for Python 2 and we want it to run in Python 3.  The obvious change to the \"print\" syntax is there (at least I hope it is obvious), however, you will note some other differences (ex: adding dictionaries is different in Python3).  \n",
    "\n",
    "**HINT** There are some useful hints in the comments of the blog and Google is your friend. "
   ]
  },
  {
   "cell_type": "code",
   "execution_count": null,
   "metadata": {
    "collapsed": true
   },
   "outputs": [],
   "source": [
    "#DO THIS - Put the code fro the schelling model here. "
   ]
  },
  {
   "cell_type": "markdown",
   "metadata": {},
   "source": [
    "**Question 8**: Compare and contrast this design to the design you made earlier?"
   ]
  },
  {
   "cell_type": "markdown",
   "metadata": {},
   "source": [
    "<font size=8 color=\"#009600\">&#9998;</font> Do This - Erase the contents of this cell and replace it with your answer to the above question!  (double-click on this text to edit this cell, and hit shift+enter to save the text)"
   ]
  },
  {
   "cell_type": "markdown",
   "metadata": {
    "collapsed": true
   },
   "source": [
    "---------\n",
    "### Congratulations, you're done with your in-class assignment!\n",
    "\n",
    "Now, you just need to submit this assignment by uploading it to the course Desire2Learn web page (Don't forget to add your names in the first cell).  Go to the \"in-class assignments\" folder, find the dropbox link for \"09-ABS\", and upload it there."
   ]
  },
  {
   "cell_type": "markdown",
   "metadata": {},
   "source": [
    "&#169; Copyright 2016,  Michigan State University Board of Trustees"
   ]
  },
  {
   "cell_type": "code",
   "execution_count": null,
   "metadata": {
    "collapsed": true
   },
   "outputs": [],
   "source": []
  }
 ],
 "metadata": {
  "anaconda-cloud": {},
  "kernelspec": {
   "display_name": "Python 3",
   "language": "python",
   "name": "python3"
  },
  "language_info": {
   "codemirror_mode": {
    "name": "ipython",
    "version": 3
   },
   "file_extension": ".py",
   "mimetype": "text/x-python",
   "name": "python",
   "nbconvert_exporter": "python",
   "pygments_lexer": "ipython3",
   "version": "3.5.2"
  }
 },
 "nbformat": 4,
 "nbformat_minor": 1
}
