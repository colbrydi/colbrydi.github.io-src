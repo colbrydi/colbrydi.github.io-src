{
 "cells": [
  {
   "cell_type": "markdown",
   "metadata": {},
   "source": [
    "- title: Migration from Blogger to Pelican\n",
    "- author: Dirk Colbry\n",
    "- date: 2018-08-10\n",
    "- category: Fun\n",
    "- tags: Blogging, Pelican, Jupyter?"
   ]
  },
  {
   "cell_type": "markdown",
   "metadata": {},
   "source": [
    "Today I was showning someone my old [Blogger website]() and one of the reasons I moved away from blogger is that it was hard to edit and did not work well with my workflow.  It occured to me that it may be easy to migrate from Blogger to my new Pelican Blog.  \n",
    "\n",
    "---\n",
    "## STEP 1: Download Blog's Atom Feed\n",
    "\n",
    "First thing I noticed is the atom link at the bottom of the page. I right clicked on the feed and saved it as a file called \"Family_Making.xml\".\n",
    "\n",
    "---\n",
    "## STEP 2: Find, install and test atom parser for python\n",
    "\n",
    "I then googled aroud for a atom feed parser in Python. Came up with [feedparser]()\n",
    "\n",
    "```pip install feedparser```\n",
    "\n",
    "The following verified that feedparser was working"
   ]
  },
  {
   "cell_type": "code",
   "execution_count": 1,
   "metadata": {},
   "outputs": [],
   "source": [
    "import feedparser"
   ]
  },
  {
   "cell_type": "code",
   "execution_count": 2,
   "metadata": {},
   "outputs": [],
   "source": [
    "d = feedparser.parse('./Family_making.xml')"
   ]
  },
  {
   "cell_type": "markdown",
   "metadata": {},
   "source": [
    "After looking at the entries I realized that i needed the ```title```, ```published```, and ```summary``` fields.  "
   ]
  },
  {
   "cell_type": "code",
   "execution_count": 3,
   "metadata": {},
   "outputs": [
    {
     "data": {
      "text/plain": [
       "'Ultimaker 2, cleaning a clogged nozzle'"
      ]
     },
     "execution_count": 3,
     "metadata": {},
     "output_type": "execute_result"
    }
   ],
   "source": [
    "d.entries[1].title"
   ]
  },
  {
   "cell_type": "code",
   "execution_count": 4,
   "metadata": {},
   "outputs": [
    {
     "data": {
      "text/plain": [
       "'2015-05-02T12:07:00.000-04:00'"
      ]
     },
     "execution_count": 4,
     "metadata": {},
     "output_type": "execute_result"
    }
   ],
   "source": [
    "d.entries[1].published"
   ]
  },
  {
   "cell_type": "code",
   "execution_count": 1,
   "metadata": {},
   "outputs": [],
   "source": [
    "#d.entries[1].summary"
   ]
  },
  {
   "cell_type": "markdown",
   "metadata": {},
   "source": [
    "---\n",
    "## STEP 3: Convert xlm/html and save as a markdown file suitable for pelican\n",
    "\n",
    "Notice that the```summary``` field was stored as HTML instead of markdown.  Another quick google lead me to html2text. Either I have already pip installed this library or it came with my anaconda installtion. In either case it loaded just fine."
   ]
  },
  {
   "cell_type": "code",
   "execution_count": 6,
   "metadata": {},
   "outputs": [],
   "source": [
    "import html2text"
   ]
  },
  {
   "cell_type": "markdown",
   "metadata": {},
   "source": [
    "The following function takes an entriy in the atom feed and converts it to markdown format."
   ]
  },
  {
   "cell_type": "code",
   "execution_count": 7,
   "metadata": {},
   "outputs": [],
   "source": [
    "#Stub function. Does nothing. I added this later (see below)\n",
    "def geturls(s, makelocal=True):\n",
    "    return s\n",
    "        \n",
    "    "
   ]
  },
  {
   "cell_type": "code",
   "execution_count": 13,
   "metadata": {},
   "outputs": [],
   "source": [
    "def parseentry(e, save=False, show=True):\n",
    "    date = e.published[0:10]\n",
    "    title = e.title\n",
    "    filename = date.replace('-','')+\"_\"+e.title.replace(' ','_')+'.md'\n",
    "    url = e.link\n",
    "    \n",
    "    s='Title: '+title+'\\n'\n",
    "    s+='Date: '+date+'\\n'\n",
    "    s+='Tags: Maker, 3DPrinting\\n'\n",
    "    s+='\\n'\n",
    "    s+=geturls(html2text.html2text(e.summary))#, makelocal=not(show))\n",
    "    \n",
    "    s+='Blogpost migrated from [Blogger]('+url+') using costom python script. Comment on errors below.\\n'\n",
    "    if save:\n",
    "        print('Saving: '+filename)\n",
    "        f=open(filename,'w')\n",
    "        f.write(s)\n",
    "        f.close()\n",
    "    if show:\n",
    "        print(filename)\n",
    "        print(s)\n",
    "    return s"
   ]
  },
  {
   "cell_type": "markdown",
   "metadata": {},
   "source": [
    "Lets test it here..."
   ]
  },
  {
   "cell_type": "code",
   "execution_count": 14,
   "metadata": {},
   "outputs": [
    {
     "name": "stdout",
     "output_type": "stream",
     "text": [
      "20150509_Intrducing_a_3D_printer_to_my_daughter's_Kindergarten_class.md\n",
      "Title: Intrducing a 3D printer to my daughter's Kindergarten class\n",
      "Date: 2015-05-09\n",
      "Tags: Maker, 3DPrinting\n",
      "\n",
      "We had fun showing off my 3D printer to the Kindergarten class.  Although the\n",
      "printer is fun to watch, kids tend to get board with it in just a few minutes.\n",
      "I like to come up with classroom projects that let the kids use things that\n",
      "are printed with the printer. Since it is so cheep it is also fun to print\n",
      "something ahead of time that they can take home.  \n",
      "  \n",
      "For the kindergarten class we printed some flowers that the kids could use to\n",
      "put together a cut spring  time flower pots just in time for mother's day:  \n",
      "\n",
      "[![](http://4.bp.blogspot.com/-CiJUKjlzqcY/VU6KF04S50I/AAAAAAAADYk/kRUWF98Binc/s320/Photo%2BMay%2B09%2C%2B3%2B04%2B38%2BPM.jpg)](http://4.bp.blogspot.com/-CiJUKjlzqcY/VU6KF04S50I/AAAAAAAADYk/kRUWF98Binc/s1600/Photo%2BMay%2B09%2C%2B3%2B04%2B38%2BPM.jpg)\n",
      "\n",
      "It even lights up:\n",
      "\n",
      "[![](http://1.bp.blogspot.com/-pBFgujkY9q8/VU6KFhrAYMI/AAAAAAAADYg/tZphITf-J0E/s320/Photo%2BMay%2B09%2C%2B3%2B04%2B45%2BPM.jpg)](http://1.bp.blogspot.com/-pBFgujkY9q8/VU6KFhrAYMI/AAAAAAAADYg/tZphITf-J0E/s1600/Photo%2BMay%2B09%2C%2B3%2B04%2B45%2BPM.jpg)\n",
      "\n",
      "The kids had a great time. Here are some pictures  \n",
      "\n",
      "[![](http://4.bp.blogspot.com/-HrERuNuZZu4/VU6K7pHoUqI/AAAAAAAADY4/-8WReCBw-eY/s320/Photo%2BMay%2B06%2C%2B1%2B52%2B01%2BPM.jpg)](http://4.bp.blogspot.com/-HrERuNuZZu4/VU6K7pHoUqI/AAAAAAAADY4/-8WReCBw-eY/s1600/Photo%2BMay%2B06%2C%2B1%2B52%2B01%2BPM.jpg)\n",
      "\n",
      "  \n",
      "\n",
      "[![](http://3.bp.blogspot.com/-Isq8v7xffYc/VU6K6jtRtUI/AAAAAAAADYw/ptVsHZlos9M/s320/Photo%2BMay%2B06%2C%2B1%2B52%2B16%2BPM.jpg)](http://3.bp.blogspot.com/-Isq8v7xffYc/VU6K6jtRtUI/AAAAAAAADYw/ptVsHZlos9M/s1600/Photo%2BMay%2B06%2C%2B1%2B52%2B16%2BPM.jpg)\n",
      "\n",
      "  \n",
      "\n",
      "[![](http://3.bp.blogspot.com/-Q5yEH7AheOs/VU6LRFo0ShI/AAAAAAAADZQ/UgQCa5xUQYM/s320/Photo%2BMay%2B06%2C%2B1%2B52%2B39%2BPM.jpg)](http://3.bp.blogspot.com/-Q5yEH7AheOs/VU6LRFo0ShI/AAAAAAAADZQ/UgQCa5xUQYM/s1600/Photo%2BMay%2B06%2C%2B1%2B52%2B39%2BPM.jpg)\n",
      "\n",
      "  \n",
      "\n",
      "[![](http://3.bp.blogspot.com/-2Wo_OvPVJxk/VU6K8cnn4sI/AAAAAAAADZA/OZIqA22-G0U/s320/Photo%2BMay%2B06%2C%2B1%2B03%2B20%2BPM.jpg)](http://3.bp.blogspot.com/-2Wo_OvPVJxk/VU6K8cnn4sI/AAAAAAAADZA/OZIqA22-G0U/s1600/Photo%2BMay%2B06%2C%2B1%2B03%2B20%2BPM.jpg)\n",
      "\n",
      "Turned out to be a lot of fun.  If you are interested in makeing your own here\n",
      "is a list of instructions on Instructables:\n",
      "\n",
      "  \n",
      "\n",
      "<http://www.instructables.com/id/Spring-kindergarten-Class-Project-with-3D-Printer/>  \n",
      "\n",
      "  \n",
      "\n",
      "And the 3D files on YouMagine:\n",
      "\n",
      "  \n",
      "\n",
      "<https://www.youmagine.com/designs/light-up-flower>\n",
      "\n",
      "Blogpost migrated from [Blogger](https://apprenticemaker.blogspot.com/2015/05/showing-off-3d-printer-to-daughters.html) using costom python script. Comment on errors below.\n",
      "\n"
     ]
    }
   ],
   "source": [
    "s = parseentry(d.entries[0])"
   ]
  },
  {
   "cell_type": "markdown",
   "metadata": {},
   "source": [
    "Now lets run though all of the entires and save them..."
   ]
  },
  {
   "cell_type": "code",
   "execution_count": 15,
   "metadata": {},
   "outputs": [],
   "source": [
    "for e in d.entries:\n",
    "    parseentry(e, save=False, show=False)"
   ]
  },
  {
   "cell_type": "markdown",
   "metadata": {},
   "source": [
    "# Future Work\n",
    "\n",
    "I notieced that there are a lot of minor errors in my posts (spelling, tags,? etc). There also seems to be a problem with URLs with dashes (```-```) where the file seems to add a charage return. Not sure why.  I tried fixing it with a program but realized I have to read and verify each entry anyway so I will just fix them by hand.\n",
    "\n",
    "Overall the entire project took me less than 40 minutes sitting at the airport (including writing this post) :-)\n",
    "\n",
    "- Dirk"
   ]
  },
  {
   "cell_type": "markdown",
   "metadata": {},
   "source": [
    "I got board on the plane so I thought I would try to write a program to download the pictures. This also fixes a weird problem with my URLs.  "
   ]
  },
  {
   "cell_type": "code",
   "execution_count": 11,
   "metadata": {},
   "outputs": [],
   "source": [
    "from urllib.request import urlopen, urlretrieve\n",
    "\n",
    "def geturls(s, makelocal=False):\n",
    "    pictures=s.split('![](')\n",
    "    imageurls = []\n",
    "    urls=[]\n",
    "    if pictures:\n",
    "        for p in pictures:\n",
    "            if(p[0:4] == 'http'):\n",
    "                url_list = p.split(')')\n",
    "                url1_old = url_list[0]\n",
    "                url1_new = url1_old.replace('\\n','')\n",
    "                filename = url1_new.split('/')[-1]\n",
    "                if(makelocal):\n",
    "                    fullpath='./images/'+filename\n",
    "                    print('saving '+fullpath)\n",
    "                    urlretrieve(url1_new, fullpath);\n",
    "                    url1_new = fullpath\n",
    "\n",
    "                imageurls.append(url1_new)\n",
    "\n",
    "                url2_old = url_list[1].split('()')[0]\n",
    "                url2_new = url2_old.replace('\\n','')\n",
    "                if(makelocal):\n",
    "                    url2_new = '](../images/'+filename\n",
    "\n",
    "                s = s.replace(url1_old,url1_new)\n",
    "                s = s.replace(url2_old,url2_new)\n",
    "    refs = s.split('<http')\n",
    "    refs = refs[1:]\n",
    "    for r in refs:\n",
    "        url = r.split('>')[0]\n",
    "        url2 = url.replace('\\n','')\n",
    "        s = s.replace(url,url2)\n",
    "    \n",
    "    return s\n",
    "    "
   ]
  },
  {
   "cell_type": "code",
   "execution_count": 12,
   "metadata": {},
   "outputs": [
    {
     "name": "stdout",
     "output_type": "stream",
     "text": [
      "I have been having trouble with my 3D printer over the last couple of months.\n",
      "It turns out that the fans got disconnected. Once I fixed the problem my\n",
      "printer is working better than ever. I was itching for something to print so I\n",
      "came up with this simple spacer.  \n",
      "\n",
      "[![](https://lh3.googleusercontent.com/-9lxv9eHP0vE/VQ8m4AV34dI/AAAAAAAADUk/UluX9uZIpx4/s320/blogger-image--470762115.jpg)](https://lh3.googleusercontent.com/-9lxv9eHP0vE/VQ8m4AV34dI/AAAAAAAADUk/UluX9uZIpx4/s640/blogger-image--470762115.jpg)\n",
      "\n",
      "  \n",
      "\n",
      "I installed a motion sensor in my basement because the light switch is in an\n",
      "inconvenient place and most of the time we go in this part of the basement my\n",
      "hands seem to be full. The motion sensor fixes this problem and even found a\n",
      "outlet plate on thingiverse that fit perfectly.\n",
      "\n",
      "  \n",
      "<http://www.thingiverse.com/thing:457658>\n",
      "\n",
      "  \n",
      "\n",
      "The only problem is that the installed switch box is too small for the new\n",
      "sensor and my printed play sticks out a good 15 mm from the box.\n",
      "\n",
      "[![](https://lh4.googleusercontent.com/-fWMqokmTHSY/VRALGk8pElI/AAAAAAAADVE/KYj6aiG8kEY/s640/blogger-image-2136501427.jpg)](https://lh4.googleusercontent.com/-fWMqokmTHSY/VRALGk8pElI/AAAAAAAADVE/KYj6aiG8kEY/s640/blogger-image-2136501427.jpg)\n",
      "\n",
      "  \n",
      "  \n",
      "\n",
      "A few minutes with OpenScad and a two hour print later I have a nice looking\n",
      "solution.\n",
      "\n",
      "  \n",
      "\n",
      "[![](https://lh5.googleusercontent.com/-UziobC6p1aU/VRALHqt6kuI/AAAAAAAADVM/Umb587yQAwQ/s640/blogger-image--906009313.jpg)](https://lh5.googleusercontent.com/-UziobC6p1aU/VRALHqt6kuI/AAAAAAAADVM/Umb587yQAwQ/s640/blogger-image--906009313.jpg)\n",
      "\n",
      "  \n",
      "\n",
      "  \n",
      "Here is a link to the OpenSCAD file if you are interested in printing your\n",
      "own:  \n",
      "  \n",
      "<https://www.youmagine.com/designs/wall-switch-spacer>  \n",
      "  \n",
      "\n",
      "Easy and fun! Nice to have my printer back!\n",
      "\n",
      "  \n",
      "\n",
      "\\- Dirk\n",
      "\n",
      "  \n",
      "\n",
      "  \n",
      "\n",
      "  \n",
      "\n",
      "\n"
     ]
    }
   ],
   "source": [
    "print(geturls(html2text.html2text(d.entries[2].summary)))"
   ]
  },
  {
   "cell_type": "code",
   "execution_count": null,
   "metadata": {},
   "outputs": [],
   "source": []
  }
 ],
 "metadata": {
  "kernelspec": {
   "display_name": "Python 3",
   "language": "python",
   "name": "python3"
  },
  "language_info": {
   "codemirror_mode": {
    "name": "ipython",
    "version": 3
   },
   "file_extension": ".py",
   "mimetype": "text/x-python",
   "name": "python",
   "nbconvert_exporter": "python",
   "pygments_lexer": "ipython3",
   "version": "3.6.4"
  }
 },
 "nbformat": 4,
 "nbformat_minor": 2
}
