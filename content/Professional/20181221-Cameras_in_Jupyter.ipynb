{
 "cells": [
  {
   "cell_type": "markdown",
   "metadata": {},
   "source": [
    "- title: Accessing a computer's camera inside of jupyter without installing OpenCV (Also works in Jupyterhub)\n",
    "- author: Dirk Colbry\n",
    "- date: 2018-12-21\n",
    "- category: Professional\n",
    "- tags: Jupyter"
   ]
  },
  {
   "cell_type": "markdown",
   "metadata": {},
   "source": [
    "<img src=\"//colbrydi.github.io/images/Camera.png\">\n",
    "\n",
    "The following code lets you take pictures inside of jupyter notebooks.  It uses Javascript inside of jupyterhub to access the client computers camera and transfer images back into python. \n",
    "\n",
    "I am particularly proud of this code because of the following features:\n",
    "\n",
    "- Does not require the installation of OpenCV (This can be tricky)\n",
    "- Will work with Jupyterhub.  This is a big one. If you run OpenCV on Jupyterhub it will look for the camera on the server and not the client computer. Since this code runs in javascript it uses the client's computer.\n",
    "\n",
    "Some negativies to this approach:\n",
    "\n",
    "- Does not work in Jupyterlab.  This is because the default of JupyterLab does not enable javascript as a security measure.\n",
    "- Is not fast enough to transmit video.  This is because I use Unicode to transmit the image and it can't handle enough images in a reasonable amount of time.  There may be a way to record the video inside of javascript and then transmit the entire video but I have not figured that out.\n",
    "\n",
    "\n",
    "### Step 1: Access the camera in the Javascript\n",
    "This program works in two major steps. The first step is written in javascript.  In summary, the code creates a javascript canvas and attaches the local camera.  The code also creates a simple javascript button.  WHen the user presses the button a picture is taken and the context is saved as a Unicode URL.  The information is passed back to the python kernel using the ```IPython.notebook.kernel.execute``` command.  "
   ]
  },
  {
   "cell_type": "code",
   "execution_count": null,
   "metadata": {
    "scrolled": true
   },
   "outputs": [],
   "source": [
    "# Code developed by Dirk Colbry\n",
    "# This code snipit tries to read from your computer's camera.  It is not fully tested so it may not work for everyone.\n",
    "\n",
    "from IPython.display import HTML\n",
    "\n",
    "main_text = \"\"\"\n",
    "<video id=\"video\" width=\"320\" height=\"240\" autoplay></video>\n",
    "<button id=\"snap\">Snap Photo</button>\n",
    "<canvas id=\"canvas\" width=\"320\" height=\"240\"></canvas>\n",
    "\n",
    "<script>\n",
    "// Grab elements, create settings, etc.\n",
    "var video = document.getElementById('video');\n",
    "\n",
    "// Get access to the camera!\n",
    "if(navigator.mediaDevices && navigator.mediaDevices.getUserMedia) {\n",
    "    // Not adding `{ audio: true }` since we only want video now\n",
    "    navigator.mediaDevices.getUserMedia({ video: true }).then(function(stream) {\n",
    "        //video.src = window.URL.createObjectURL(stream);\n",
    "        //video.play();\n",
    "        video.srcObject=stream;\n",
    "        video.play();\n",
    "    });\n",
    "}\n",
    "\n",
    "// Elements for taking the snapshot\n",
    "var canvas = document.getElementById('canvas');\n",
    "var context = canvas.getContext('2d');\n",
    "var video = document.getElementById('video');\n",
    "\n",
    "// Trigger photo take\n",
    "document.getElementById(\"snap\").addEventListener(\"click\", function() {\n",
    "\tcontext.drawImage(video, 0, 0, 320, 240);\n",
    "    var myCanvas = document.getElementById('canvas');\n",
    "    var image = myCanvas.toDataURL(\"image/png\");\n",
    "    IPython.notebook.kernel.execute(\"print('testing')\")\n",
    "    IPython.notebook.kernel.execute(\"image = '\" + image + \"'\")\n",
    "});\n",
    "</script>\n",
    "\n",
    "\"\"\"\n",
    "HTML(main_text)"
   ]
  },
  {
   "cell_type": "markdown",
   "metadata": {},
   "source": [
    "### Step 2: Convert string back into image\n",
    "We can now access the URL string from inside of python.  The following function does all of the magic to decode the base 64 bit image into an IO stream which is then passed into the ```PIL.Image.open``` function.  The end result is a image in the Python Image Library (PIL) format."
   ]
  },
  {
   "cell_type": "code",
   "execution_count": null,
   "metadata": {
    "scrolled": true
   },
   "outputs": [],
   "source": [
    "from PIL import Image\n",
    "import base64\n",
    "import io\n",
    "\n",
    "pil_im = Image.open(io.BytesIO(base64.b64decode(image.split(',')[1])))\n",
    "pil_im"
   ]
  },
  {
   "cell_type": "markdown",
   "metadata": {},
   "source": [
    "### Step 3: (Optional) Convert PIL image to Numpy array\n",
    "Typically I like to work with images as a 3D numpy array (row, columns, channel).  The following code just converts the PIL image into a numpy array. "
   ]
  },
  {
   "cell_type": "code",
   "execution_count": null,
   "metadata": {},
   "outputs": [],
   "source": [
    "%matplotlib inline\n",
    "import matplotlib.pylab as plt\n",
    "import numpy as np\n",
    "\n",
    "im3 = np.array(pil_im)\n",
    "im3 = im3[:,:,0:3]\n",
    "plt.imshow(im3)"
   ]
  },
  {
   "cell_type": "markdown",
   "metadata": {},
   "source": [
    "I hope you found this example useful. Please leave a comment if you use it in your project.  I would really like to see how it is used.\n",
    "\n",
    "- Dirk"
   ]
  },
  {
   "cell_type": "code",
   "execution_count": null,
   "metadata": {},
   "outputs": [],
   "source": []
  }
 ],
 "metadata": {
  "kernelspec": {
   "display_name": "Python 3",
   "language": "python",
   "name": "python3"
  },
  "language_info": {
   "codemirror_mode": {
    "name": "ipython",
    "version": 3
   },
   "file_extension": ".py",
   "mimetype": "text/x-python",
   "name": "python",
   "nbconvert_exporter": "python",
   "pygments_lexer": "ipython3",
   "version": "3.7.4"
  },
  "toc": {
   "base_numbering": 1,
   "nav_menu": {},
   "number_sections": false,
   "sideBar": false,
   "skip_h1_title": false,
   "title_cell": "Table of Contents",
   "title_sidebar": "Contents",
   "toc_cell": false,
   "toc_position": {},
   "toc_section_display": false,
   "toc_window_display": false
  }
 },
 "nbformat": 4,
 "nbformat_minor": 4
}
