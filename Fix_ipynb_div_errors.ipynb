{
 "cells": [
  {
   "cell_type": "code",
   "execution_count": 86,
   "metadata": {},
   "outputs": [
    {
     "name": "stdout",
     "output_type": "stream",
     "text": [
      "../colbrydi.github.io/Blog.html\n",
      "saveing\n",
      "../colbrydi.github.io/category/fun.html\n",
      "saveing\n"
     ]
    }
   ],
   "source": [
    "import os\n",
    "path='../colbrydi.github.io/'\n",
    "files = ['Blog.html', 'category/fun.html']\n",
    "\n",
    "test=False\n",
    "\n",
    "for f in files:\n",
    "    outfile=open('temp.html','w')\n",
    "    print(path+f)\n",
    "    fid = open(path+f)\n",
    "    counter = 0\n",
    "    article = 0\n",
    "    for l in fid:\n",
    "        if \"<div class='article'>\" in l:\n",
    "            if article > 0:\n",
    "                if counter > 0:\n",
    "                    for i in range(counter+1):\n",
    "                        if test:\n",
    "                            print('*******<div>')\n",
    "                        else:\n",
    "                            outfile.writelines('</div>')\n",
    "            article+=1\n",
    "            counter=1\n",
    "        else:\n",
    "            if \"/div\" in l:\n",
    "                counter -= 1\n",
    "                if counter < 0:\n",
    "                    counter=0\n",
    "            elif 'div' in l:\n",
    "                counter += 1\n",
    "        if test:\n",
    "            test=True\n",
    "            #print(l)\n",
    "        else:\n",
    "            outfile.writelines(l)\n",
    "            \n",
    "    fid.close()\n",
    "    outfile.close()\n",
    "    if not test:\n",
    "        print('saveing')\n",
    "        os.rename(\"temp.html\", path+f)\n"
   ]
  },
  {
   "cell_type": "code",
   "execution_count": null,
   "metadata": {},
   "outputs": [],
   "source": []
  },
  {
   "cell_type": "code",
   "execution_count": null,
   "metadata": {},
   "outputs": [],
   "source": []
  }
 ],
 "metadata": {
  "kernelspec": {
   "display_name": "Python 3",
   "language": "python",
   "name": "python3"
  },
  "language_info": {
   "codemirror_mode": {
    "name": "ipython",
    "version": 3
   },
   "file_extension": ".py",
   "mimetype": "text/x-python",
   "name": "python",
   "nbconvert_exporter": "python",
   "pygments_lexer": "ipython3",
   "version": "3.6.4"
  }
 },
 "nbformat": 4,
 "nbformat_minor": 2
}
